{
 "cells": [
  {
   "cell_type": "code",
   "execution_count": 2,
   "id": "333910ca",
   "metadata": {},
   "outputs": [],
   "source": [
    "import pandas as pd\n",
    "import numpy as np\n",
    "import networkx as nx\n",
    "import matplotlib.pyplot as plt\n",
    "from sklearn.linear_model import LinearRegression"
   ]
  },
  {
   "cell_type": "code",
   "execution_count": 3,
   "id": "45d1c1e9",
   "metadata": {},
   "outputs": [],
   "source": [
    "tags = pd.read_csv(\"ml-latest-small/tags.csv\")\n",
    "links = pd.read_csv(\"ml-latest-small/links.csv\")\n",
    "movies = pd.read_csv(\"ml-latest-small/movies.csv\")\n",
    "ratings = pd.read_csv(\"ml-latest-small/ratings.csv\")"
   ]
  },
  {
   "cell_type": "code",
   "execution_count": 4,
   "id": "e77eaadc",
   "metadata": {},
   "outputs": [
    {
     "data": {
      "text/html": [
       "<div>\n",
       "<style scoped>\n",
       "    .dataframe tbody tr th:only-of-type {\n",
       "        vertical-align: middle;\n",
       "    }\n",
       "\n",
       "    .dataframe tbody tr th {\n",
       "        vertical-align: top;\n",
       "    }\n",
       "\n",
       "    .dataframe thead th {\n",
       "        text-align: right;\n",
       "    }\n",
       "</style>\n",
       "<table border=\"1\" class=\"dataframe\">\n",
       "  <thead>\n",
       "    <tr style=\"text-align: right;\">\n",
       "      <th></th>\n",
       "      <th>userId</th>\n",
       "      <th>movieId</th>\n",
       "      <th>tag</th>\n",
       "      <th>timestamp</th>\n",
       "    </tr>\n",
       "  </thead>\n",
       "  <tbody>\n",
       "    <tr>\n",
       "      <th>0</th>\n",
       "      <td>2</td>\n",
       "      <td>60756</td>\n",
       "      <td>funny</td>\n",
       "      <td>1445714994</td>\n",
       "    </tr>\n",
       "    <tr>\n",
       "      <th>1</th>\n",
       "      <td>2</td>\n",
       "      <td>60756</td>\n",
       "      <td>Highly quotable</td>\n",
       "      <td>1445714996</td>\n",
       "    </tr>\n",
       "    <tr>\n",
       "      <th>2</th>\n",
       "      <td>2</td>\n",
       "      <td>60756</td>\n",
       "      <td>will ferrell</td>\n",
       "      <td>1445714992</td>\n",
       "    </tr>\n",
       "    <tr>\n",
       "      <th>3</th>\n",
       "      <td>2</td>\n",
       "      <td>89774</td>\n",
       "      <td>Boxing story</td>\n",
       "      <td>1445715207</td>\n",
       "    </tr>\n",
       "    <tr>\n",
       "      <th>4</th>\n",
       "      <td>2</td>\n",
       "      <td>89774</td>\n",
       "      <td>MMA</td>\n",
       "      <td>1445715200</td>\n",
       "    </tr>\n",
       "  </tbody>\n",
       "</table>\n",
       "</div>"
      ],
      "text/plain": [
       "   userId  movieId              tag   timestamp\n",
       "0       2    60756            funny  1445714994\n",
       "1       2    60756  Highly quotable  1445714996\n",
       "2       2    60756     will ferrell  1445714992\n",
       "3       2    89774     Boxing story  1445715207\n",
       "4       2    89774              MMA  1445715200"
      ]
     },
     "execution_count": 4,
     "metadata": {},
     "output_type": "execute_result"
    }
   ],
   "source": [
    "tags.head()"
   ]
  },
  {
   "cell_type": "code",
   "execution_count": 5,
   "id": "8f5fecfa",
   "metadata": {},
   "outputs": [
    {
     "data": {
      "text/html": [
       "<div>\n",
       "<style scoped>\n",
       "    .dataframe tbody tr th:only-of-type {\n",
       "        vertical-align: middle;\n",
       "    }\n",
       "\n",
       "    .dataframe tbody tr th {\n",
       "        vertical-align: top;\n",
       "    }\n",
       "\n",
       "    .dataframe thead th {\n",
       "        text-align: right;\n",
       "    }\n",
       "</style>\n",
       "<table border=\"1\" class=\"dataframe\">\n",
       "  <thead>\n",
       "    <tr style=\"text-align: right;\">\n",
       "      <th></th>\n",
       "      <th>movieId</th>\n",
       "      <th>title</th>\n",
       "      <th>genres</th>\n",
       "    </tr>\n",
       "  </thead>\n",
       "  <tbody>\n",
       "    <tr>\n",
       "      <th>0</th>\n",
       "      <td>1</td>\n",
       "      <td>Toy Story (1995)</td>\n",
       "      <td>Adventure|Animation|Children|Comedy|Fantasy</td>\n",
       "    </tr>\n",
       "    <tr>\n",
       "      <th>1</th>\n",
       "      <td>2</td>\n",
       "      <td>Jumanji (1995)</td>\n",
       "      <td>Adventure|Children|Fantasy</td>\n",
       "    </tr>\n",
       "    <tr>\n",
       "      <th>2</th>\n",
       "      <td>3</td>\n",
       "      <td>Grumpier Old Men (1995)</td>\n",
       "      <td>Comedy|Romance</td>\n",
       "    </tr>\n",
       "    <tr>\n",
       "      <th>3</th>\n",
       "      <td>4</td>\n",
       "      <td>Waiting to Exhale (1995)</td>\n",
       "      <td>Comedy|Drama|Romance</td>\n",
       "    </tr>\n",
       "    <tr>\n",
       "      <th>4</th>\n",
       "      <td>5</td>\n",
       "      <td>Father of the Bride Part II (1995)</td>\n",
       "      <td>Comedy</td>\n",
       "    </tr>\n",
       "  </tbody>\n",
       "</table>\n",
       "</div>"
      ],
      "text/plain": [
       "   movieId                               title  \\\n",
       "0        1                    Toy Story (1995)   \n",
       "1        2                      Jumanji (1995)   \n",
       "2        3             Grumpier Old Men (1995)   \n",
       "3        4            Waiting to Exhale (1995)   \n",
       "4        5  Father of the Bride Part II (1995)   \n",
       "\n",
       "                                        genres  \n",
       "0  Adventure|Animation|Children|Comedy|Fantasy  \n",
       "1                   Adventure|Children|Fantasy  \n",
       "2                               Comedy|Romance  \n",
       "3                         Comedy|Drama|Romance  \n",
       "4                                       Comedy  "
      ]
     },
     "execution_count": 5,
     "metadata": {},
     "output_type": "execute_result"
    }
   ],
   "source": [
    "movies.head()"
   ]
  },
  {
   "cell_type": "code",
   "execution_count": 6,
   "id": "51a7f36b",
   "metadata": {},
   "outputs": [
    {
     "data": {
      "text/html": [
       "<div>\n",
       "<style scoped>\n",
       "    .dataframe tbody tr th:only-of-type {\n",
       "        vertical-align: middle;\n",
       "    }\n",
       "\n",
       "    .dataframe tbody tr th {\n",
       "        vertical-align: top;\n",
       "    }\n",
       "\n",
       "    .dataframe thead th {\n",
       "        text-align: right;\n",
       "    }\n",
       "</style>\n",
       "<table border=\"1\" class=\"dataframe\">\n",
       "  <thead>\n",
       "    <tr style=\"text-align: right;\">\n",
       "      <th></th>\n",
       "      <th>userId</th>\n",
       "      <th>movieId</th>\n",
       "      <th>rating</th>\n",
       "      <th>timestamp</th>\n",
       "    </tr>\n",
       "  </thead>\n",
       "  <tbody>\n",
       "    <tr>\n",
       "      <th>0</th>\n",
       "      <td>1</td>\n",
       "      <td>1</td>\n",
       "      <td>4.0</td>\n",
       "      <td>964982703</td>\n",
       "    </tr>\n",
       "    <tr>\n",
       "      <th>1</th>\n",
       "      <td>1</td>\n",
       "      <td>3</td>\n",
       "      <td>4.0</td>\n",
       "      <td>964981247</td>\n",
       "    </tr>\n",
       "    <tr>\n",
       "      <th>2</th>\n",
       "      <td>1</td>\n",
       "      <td>6</td>\n",
       "      <td>4.0</td>\n",
       "      <td>964982224</td>\n",
       "    </tr>\n",
       "    <tr>\n",
       "      <th>3</th>\n",
       "      <td>1</td>\n",
       "      <td>47</td>\n",
       "      <td>5.0</td>\n",
       "      <td>964983815</td>\n",
       "    </tr>\n",
       "    <tr>\n",
       "      <th>4</th>\n",
       "      <td>1</td>\n",
       "      <td>50</td>\n",
       "      <td>5.0</td>\n",
       "      <td>964982931</td>\n",
       "    </tr>\n",
       "  </tbody>\n",
       "</table>\n",
       "</div>"
      ],
      "text/plain": [
       "   userId  movieId  rating  timestamp\n",
       "0       1        1     4.0  964982703\n",
       "1       1        3     4.0  964981247\n",
       "2       1        6     4.0  964982224\n",
       "3       1       47     5.0  964983815\n",
       "4       1       50     5.0  964982931"
      ]
     },
     "execution_count": 6,
     "metadata": {},
     "output_type": "execute_result"
    }
   ],
   "source": [
    "ratings.head()"
   ]
  },
  {
   "cell_type": "code",
   "execution_count": 7,
   "id": "43d5a2cb",
   "metadata": {},
   "outputs": [],
   "source": [
    "topId = ratings['movieId'].value_counts()[:100].index.tolist()\n",
    "topmovies = []\n",
    "for top in topId:\n",
    "    topmovies.append(movies['title'][movies['movieId'] == top].item())"
   ]
  },
  {
   "cell_type": "code",
   "execution_count": 8,
   "id": "19048a46",
   "metadata": {},
   "outputs": [],
   "source": [
    "topscores = []\n",
    "for top in topId:\n",
    "    topscores.append(np.mean(ratings[ratings['movieId'] == top]['rating']))"
   ]
  },
  {
   "cell_type": "code",
   "execution_count": 9,
   "id": "ec681bce",
   "metadata": {},
   "outputs": [],
   "source": [
    "allscores = []\n",
    "for idd in movies['movieId']:\n",
    "    allscores.append(np.mean(ratings[ratings['movieId'] == idd]['rating']))"
   ]
  },
  {
   "cell_type": "code",
   "execution_count": 1,
   "id": "fca9173d",
   "metadata": {},
   "outputs": [],
   "source": [
    "#print(topmovies)"
   ]
  },
  {
   "cell_type": "code",
   "execution_count": 10,
   "id": "46ee7057",
   "metadata": {},
   "outputs": [],
   "source": [
    "metascore_ratings = [82, 81, 94, 85, 73, 90, 68, 68, 75, 94, 66, 95, 82, 84, 77, 65, 59, 77, 85, 92, 58, 100, 87, 69, 87, 91,\n",
    "                     94, 86, 85, 64, 63, 74, 88, 78, 87, 67, 84, 71, 72, 59, 37, 80, 56, 63, 84, 95, 89, 72, 53, 58, 72, 74, 77,\n",
    "                     70, 90, 42, 75, 65, 51, 51, 91, 51, 84, 64, 41, 64, 65, 79, 79, 89, 69, 84, 62, 90, 83, 84, 90, 90, 90, 84,\n",
    "                     68, 72, 73, 91, 58, 59, 77, 71, 69, 80, 67, 74, 52, 70, 63, 52, 56, 75, 66, 68]"
   ]
  },
  {
   "cell_type": "code",
   "execution_count": 11,
   "id": "608300c6",
   "metadata": {},
   "outputs": [
    {
     "name": "stdout",
     "output_type": "stream",
     "text": [
      "0.4501021179822432\n"
     ]
    }
   ],
   "source": [
    "reg = LinearRegression().fit(np.array(topscores).reshape(-1,1), metascore_ratings)\n",
    "interc = reg.intercept_\n",
    "slope = reg.coef_[0]\n",
    "x = np.linspace(2.5,4.5,100)\n",
    "y = slope * x + interc\n",
    "print(reg.score(np.array(topscores).reshape(-1,1), metascore_ratings))"
   ]
  },
  {
   "cell_type": "code",
   "execution_count": 24,
   "id": "b435e32a",
   "metadata": {},
   "outputs": [
    {
     "data": {
      "image/png": "[encoded data removed]",
      "text/plain": [
       "<Figure size 640x480 with 1 Axes>"
      ]
     },
     "metadata": {},
     "output_type": "display_data"
    }
   ],
   "source": [
    "plt.scatter(topscores, metascore_ratings, marker = '.', c = 'k')\n",
    "plt.plot(x, y, c = 'r', label = 'Linear Regression')\n",
    "plt.xlabel(\"Users Ratings\")\n",
    "plt.ylabel(\"MetaScore Ratings\")\n",
    "plt.title('Users vs Metascore ratings')\n",
    "plt.legend()\n",
    "plt.show()"
   ]
  },
  {
   "cell_type": "code",
   "execution_count": 23,
   "id": "e8e13c0c",
   "metadata": {},
   "outputs": [
    {
     "data": {
      "image/png": "[encoded data removed]",
      "text/plain": [
       "<Figure size 640x480 with 1 Axes>"
      ]
     },
     "metadata": {},
     "output_type": "display_data"
    }
   ],
   "source": [
    "plt.hist(ratings['rating'], bins = [0.25, 0.75, 1.25, 1.75, 2.25, 2.75, 3.25, 3.75, 4.25, 4.75, 5.25])\n",
    "plt.xlabel('Ratings')\n",
    "plt.ylabel('Number of ratings')\n",
    "plt.title('Distribution of ratings')\n",
    "plt.show()"
   ]
  },
  {
   "cell_type": "code",
   "execution_count": 14,
   "id": "6a2e1ee2",
   "metadata": {},
   "outputs": [],
   "source": [
    "tagsval = []\n",
    "for idd in movies['movieId']:\n",
    "    tagsval.append([])\n",
    "    b = list(tags['tag'][tags['movieId'] == idd])\n",
    "    for i in range(len(b)):\n",
    "        a = b[i].split(' ')\n",
    "        for el in a:\n",
    "            tagsval[-1].append(el)"
   ]
  },
  {
   "cell_type": "code",
   "execution_count": 15,
   "id": "e761e429",
   "metadata": {},
   "outputs": [
    {
     "data": {
      "text/html": [
       "<div>\n",
       "<style scoped>\n",
       "    .dataframe tbody tr th:only-of-type {\n",
       "        vertical-align: middle;\n",
       "    }\n",
       "\n",
       "    .dataframe tbody tr th {\n",
       "        vertical-align: top;\n",
       "    }\n",
       "\n",
       "    .dataframe thead th {\n",
       "        text-align: right;\n",
       "    }\n",
       "</style>\n",
       "<table border=\"1\" class=\"dataframe\">\n",
       "  <thead>\n",
       "    <tr style=\"text-align: right;\">\n",
       "      <th></th>\n",
       "      <th>happiness_rank</th>\n",
       "      <th>happiness_average</th>\n",
       "      <th>happiness_standard_deviation</th>\n",
       "      <th>twitter_rank</th>\n",
       "      <th>google_rank</th>\n",
       "      <th>nyt_rank</th>\n",
       "      <th>lyrics_rank</th>\n",
       "    </tr>\n",
       "    <tr>\n",
       "      <th>word</th>\n",
       "      <th></th>\n",
       "      <th></th>\n",
       "      <th></th>\n",
       "      <th></th>\n",
       "      <th></th>\n",
       "      <th></th>\n",
       "      <th></th>\n",
       "    </tr>\n",
       "  </thead>\n",
       "  <tbody>\n",
       "    <tr>\n",
       "      <th>laughter</th>\n",
       "      <td>1</td>\n",
       "      <td>8.50</td>\n",
       "      <td>0.9313</td>\n",
       "      <td>3600</td>\n",
       "      <td>--</td>\n",
       "      <td>--</td>\n",
       "      <td>1728</td>\n",
       "    </tr>\n",
       "    <tr>\n",
       "      <th>happiness</th>\n",
       "      <td>2</td>\n",
       "      <td>8.44</td>\n",
       "      <td>0.9723</td>\n",
       "      <td>1853</td>\n",
       "      <td>2458</td>\n",
       "      <td>--</td>\n",
       "      <td>1230</td>\n",
       "    </tr>\n",
       "    <tr>\n",
       "      <th>love</th>\n",
       "      <td>3</td>\n",
       "      <td>8.42</td>\n",
       "      <td>1.1082</td>\n",
       "      <td>25</td>\n",
       "      <td>317</td>\n",
       "      <td>328</td>\n",
       "      <td>23</td>\n",
       "    </tr>\n",
       "    <tr>\n",
       "      <th>happy</th>\n",
       "      <td>4</td>\n",
       "      <td>8.30</td>\n",
       "      <td>0.9949</td>\n",
       "      <td>65</td>\n",
       "      <td>1372</td>\n",
       "      <td>1313</td>\n",
       "      <td>375</td>\n",
       "    </tr>\n",
       "    <tr>\n",
       "      <th>laughed</th>\n",
       "      <td>5</td>\n",
       "      <td>8.26</td>\n",
       "      <td>1.1572</td>\n",
       "      <td>3334</td>\n",
       "      <td>3542</td>\n",
       "      <td>--</td>\n",
       "      <td>2332</td>\n",
       "    </tr>\n",
       "    <tr>\n",
       "      <th>...</th>\n",
       "      <td>...</td>\n",
       "      <td>...</td>\n",
       "      <td>...</td>\n",
       "      <td>...</td>\n",
       "      <td>...</td>\n",
       "      <td>...</td>\n",
       "      <td>...</td>\n",
       "    </tr>\n",
       "    <tr>\n",
       "      <th>murder</th>\n",
       "      <td>10218</td>\n",
       "      <td>1.48</td>\n",
       "      <td>1.0150</td>\n",
       "      <td>2762</td>\n",
       "      <td>3110</td>\n",
       "      <td>1541</td>\n",
       "      <td>1059</td>\n",
       "    </tr>\n",
       "    <tr>\n",
       "      <th>terrorism</th>\n",
       "      <td>10219</td>\n",
       "      <td>1.48</td>\n",
       "      <td>0.9089</td>\n",
       "      <td>--</td>\n",
       "      <td>--</td>\n",
       "      <td>3192</td>\n",
       "      <td>--</td>\n",
       "    </tr>\n",
       "    <tr>\n",
       "      <th>rape</th>\n",
       "      <td>10220</td>\n",
       "      <td>1.44</td>\n",
       "      <td>0.7866</td>\n",
       "      <td>3133</td>\n",
       "      <td>--</td>\n",
       "      <td>4115</td>\n",
       "      <td>2977</td>\n",
       "    </tr>\n",
       "    <tr>\n",
       "      <th>suicide</th>\n",
       "      <td>10221</td>\n",
       "      <td>1.30</td>\n",
       "      <td>0.8391</td>\n",
       "      <td>2124</td>\n",
       "      <td>4707</td>\n",
       "      <td>3319</td>\n",
       "      <td>2107</td>\n",
       "    </tr>\n",
       "    <tr>\n",
       "      <th>terrorist</th>\n",
       "      <td>10222</td>\n",
       "      <td>1.30</td>\n",
       "      <td>0.9091</td>\n",
       "      <td>3576</td>\n",
       "      <td>--</td>\n",
       "      <td>3026</td>\n",
       "      <td>--</td>\n",
       "    </tr>\n",
       "  </tbody>\n",
       "</table>\n",
       "<p>10222 rows × 7 columns</p>\n",
       "</div>"
      ],
      "text/plain": [
       "           happiness_rank  happiness_average  happiness_standard_deviation  \\\n",
       "word                                                                         \n",
       "laughter                1               8.50                        0.9313   \n",
       "happiness               2               8.44                        0.9723   \n",
       "love                    3               8.42                        1.1082   \n",
       "happy                   4               8.30                        0.9949   \n",
       "laughed                 5               8.26                        1.1572   \n",
       "...                   ...                ...                           ...   \n",
       "murder              10218               1.48                        1.0150   \n",
       "terrorism           10219               1.48                        0.9089   \n",
       "rape                10220               1.44                        0.7866   \n",
       "suicide             10221               1.30                        0.8391   \n",
       "terrorist           10222               1.30                        0.9091   \n",
       "\n",
       "          twitter_rank google_rank nyt_rank lyrics_rank  \n",
       "word                                                     \n",
       "laughter          3600          --       --        1728  \n",
       "happiness         1853        2458       --        1230  \n",
       "love                25         317      328          23  \n",
       "happy               65        1372     1313         375  \n",
       "laughed           3334        3542       --        2332  \n",
       "...                ...         ...      ...         ...  \n",
       "murder            2762        3110     1541        1059  \n",
       "terrorism           --          --     3192          --  \n",
       "rape              3133          --     4115        2977  \n",
       "suicide           2124        4707     3319        2107  \n",
       "terrorist         3576          --     3026          --  \n",
       "\n",
       "[10222 rows x 7 columns]"
      ]
     },
     "execution_count": 15,
     "metadata": {},
     "output_type": "execute_result"
    }
   ],
   "source": [
    "sentiments = pd.read_csv(\"sentiments.txt\", delim_whitespace=True, skiprows = 3)\n",
    "sentiments.set_index('word', inplace = True)\n",
    "sentiments"
   ]
  },
  {
   "cell_type": "code",
   "execution_count": 16,
   "id": "6eaa7c8a",
   "metadata": {},
   "outputs": [],
   "source": [
    "words_evaluated = np.asarray(list(sentiments.index))\n",
    "happy_avg = np.asarray(list(sentiments['happiness_average']))"
   ]
  },
  {
   "cell_type": "code",
   "execution_count": 17,
   "id": "00319523",
   "metadata": {},
   "outputs": [],
   "source": [
    "def sentiment_list(words):\n",
    "    l = 0\n",
    "    happiness = 0\n",
    "    for word in words:\n",
    "        if word in words_evaluated:\n",
    "            idx = np.where(words_evaluated == word)\n",
    "            happiness += happy_avg[idx]\n",
    "            l += 1\n",
    "    if l == 0:\n",
    "        return 0\n",
    "    return float(happiness / l)"
   ]
  },
  {
   "cell_type": "code",
   "execution_count": 18,
   "id": "19d3b19a",
   "metadata": {},
   "outputs": [],
   "source": [
    "sentiment_tags = []\n",
    "for tags in tagsval:\n",
    "    sentiment_tags.append(sentiment_list(tags))"
   ]
  },
  {
   "cell_type": "code",
   "execution_count": 19,
   "id": "fd53ef48",
   "metadata": {},
   "outputs": [
    {
     "name": "stdout",
     "output_type": "stream",
     "text": [
      "[7.96, 6.5680000000000005, 3.98, 0, 6.02, 0, 0, 0, 0, 0]\n"
     ]
    }
   ],
   "source": [
    "print(sentiment_tags[:10])"
   ]
  },
  {
   "cell_type": "code",
   "execution_count": 20,
   "id": "3fffea6d",
   "metadata": {},
   "outputs": [],
   "source": [
    "sentiments_true = []\n",
    "score_true = []\n",
    "for i in range(len(sentiment_tags)):\n",
    "    if sentiment_tags[i] != 0:\n",
    "        sentiments_true.append(sentiment_tags[i])\n",
    "        score_true.append(allscores[i])"
   ]
  },
  {
   "cell_type": "code",
   "execution_count": 25,
   "id": "342ffe7f",
   "metadata": {},
   "outputs": [
    {
     "data": {
      "image/png": "[encoded data removed]",
      "text/plain": [
       "<Figure size 640x480 with 1 Axes>"
      ]
     },
     "metadata": {},
     "output_type": "display_data"
    }
   ],
   "source": [
    "plt.scatter(score_true, sentiments_true, marker = '.', c = 'k')\n",
    "plt.xlabel(\"Users Ratings\")\n",
    "plt.ylabel(\"Sentiments Value\")\n",
    "plt.title('Users rating vs Sentiment analysis')\n",
    "plt.show()"
   ]
  },
  {
   "cell_type": "code",
   "execution_count": null,
   "id": "e64e1d24",
   "metadata": {},
   "outputs": [],
   "source": []
  }
 ],
 "metadata": {
  "kernelspec": {
   "display_name": "Python 3 (ipykernel)",
   "language": "python",
   "name": "python3"
  },
  "language_info": {
   "codemirror_mode": {
    "name": "ipython",
    "version": 3
   },
   "file_extension": ".py",
   "mimetype": "text/x-python",
   "name": "python",
   "nbconvert_exporter": "python",
   "pygments_lexer": "ipython3",
   "version": "3.9.13"
  }
 },
 "nbformat": 4,
 "nbformat_minor": 5
}
